{
  "nbformat": 4,
  "nbformat_minor": 0,
  "metadata": {
    "colab": {
      "provenance": [],
      "authorship_tag": "ABX9TyOrN8Gdt+yvNrhXFj1x7QF/",
      "include_colab_link": true
    },
    "kernelspec": {
      "name": "python3",
      "display_name": "Python 3"
    },
    "language_info": {
      "name": "python"
    }
  },
  "cells": [
    {
      "cell_type": "markdown",
      "metadata": {
        "id": "view-in-github",
        "colab_type": "text"
      },
      "source": [
        "<a href=\"https://colab.research.google.com/github/Jihanablh/Bootcamp_DQLab/blob/main/Data_Science_in_Marketing_Customer_Segmentation_with_Python_Part_2.ipynb\" target=\"_parent\"><img src=\"https://colab.research.google.com/assets/colab-badge.svg\" alt=\"Open In Colab\"/></a>"
      ]
    },
    {
      "cell_type": "markdown",
      "source": [
        "# **Mencari Jumlah Cluster yang Optimal**\n",
        "\n",
        "Penentuan jumlah cluster optimal dilakukan dengan metode Elbow, yaitu mengukur nilai cost (biaya) dari model K-Prototypes pada berbagai jumlah cluster yang diuji. Visualisasi grafik Elbow memperlihatkan titik di mana penurunan cost mulai melambat, sehingga dipilih lima cluster sebagai jumlah optimal untuk segmentasi pelanggan yang akurat dan efisien."
      ],
      "metadata": {
        "id": "71NIzc5tkv5u"
      }
    },
    {
      "cell_type": "code",
      "metadata": {
        "colab": {
          "base_uri": "https://localhost:8080/"
        },
        "id": "856bb878",
        "outputId": "86e35075-bd4b-40ef-cd64-189e6e8172bb"
      },
      "source": [
        "!pip install kmodes"
      ],
      "execution_count": 48,
      "outputs": [
        {
          "output_type": "stream",
          "name": "stdout",
          "text": [
            "Requirement already satisfied: kmodes in /usr/local/lib/python3.11/dist-packages (0.12.2)\n",
            "Requirement already satisfied: numpy>=1.10.4 in /usr/local/lib/python3.11/dist-packages (from kmodes) (2.0.2)\n",
            "Requirement already satisfied: scikit-learn>=0.22.0 in /usr/local/lib/python3.11/dist-packages (from kmodes) (1.6.1)\n",
            "Requirement already satisfied: scipy>=0.13.3 in /usr/local/lib/python3.11/dist-packages (from kmodes) (1.15.3)\n",
            "Requirement already satisfied: joblib>=0.11 in /usr/local/lib/python3.11/dist-packages (from kmodes) (1.5.1)\n",
            "Requirement already satisfied: threadpoolctl>=3.1.0 in /usr/local/lib/python3.11/dist-packages (from scikit-learn>=0.22.0->kmodes) (3.6.0)\n"
          ]
        }
      ]
    },
    {
      "cell_type": "code",
      "execution_count": 49,
      "metadata": {
        "colab": {
          "base_uri": "https://localhost:8080/",
          "height": 430
        },
        "id": "jfwJv2wvkC2W",
        "outputId": "b4e63af7-fc3a-42f1-c77e-129c50fdd88e"
      },
      "outputs": [
        {
          "output_type": "display_data",
          "data": {
            "text/plain": [
              "<Figure size 640x480 with 1 Axes>"
            ],
            "image/png": "[encoded data removed]"
          },
          "metadata": {}
        }
      ],
      "source": [
        "from kmodes.kmodes import KModes\n",
        "from kmodes.kprototypes import KPrototypes\n",
        "import pandas as pd\n",
        "import seaborn as sns\n",
        "import matplotlib.pyplot as plt\n",
        "df_model = pd.read_csv('https://storage.googleapis.com/dqlab-dataset/df-customer-segmentation.csv')\n",
        "\n",
        "# Melakukan Iterasi untuk Mendapatkan nilai Cost\n",
        "cost = {}\n",
        "for k in range(2,10):\n",
        "    kproto = KPrototypes(n_clusters = k,random_state=75)\n",
        "    kproto.fit_predict(df_model, categorical=[0,1,2])\n",
        "    cost[k]= kproto.cost_\n",
        "\n",
        "# Memvisualisasikan Elbow Plot\n",
        "sns.pointplot(x=list(cost.keys()), y=list(cost.values()))\n",
        "plt.show()"
      ]
    },
    {
      "cell_type": "markdown",
      "source": [
        "# **Membuat dan Menyimpan Model Clustering**\n",
        "\n",
        "Setelah jumlah cluster optimal ditentukan, model K-Prototypes dengan lima cluster dibuat dan dilatih menggunakan data pelanggan yang telah diproses. Model ini kemudian disimpan secara permanen menggunakan pickle agar dapat digunakan kembali untuk prediksi dan analisis selanjutnya tanpa perlu pelatihan ulang."
      ],
      "metadata": {
        "id": "FclFFdL_lRoJ"
      }
    },
    {
      "cell_type": "code",
      "source": [
        "import pickle\n",
        "from kmodes.kmodes import KModes\n",
        "from kmodes.kprototypes import KPrototypes\n",
        "\n",
        "kproto = KPrototypes(n_clusters=5, random_state = 75)\n",
        "kproto = kproto.fit(df_model, categorical=[0,1,2])\n",
        "\n",
        "#Save Model\n",
        "pickle.dump(kproto, open('cluster.pkl', 'wb'))"
      ],
      "metadata": {
        "id": "FmJZlSrclS6j"
      },
      "execution_count": 50,
      "outputs": []
    },
    {
      "cell_type": "markdown",
      "source": [
        "# **Menggunakan Model untuk Prediksi Segmentasi Pelanggan**\n",
        "\n",
        "Model yang telah dibuat digunakan untuk memprediksi segmen masing-masing pelanggan berdasarkan data atribut numerik dan kategorikal. Hasil prediksi ini kemudian digabungkan dengan data asli pelanggan sehingga setiap pelanggan memiliki label cluster yang memudahkan analisis dan pengambilan keputusan bisnis."
      ],
      "metadata": {
        "id": "PM8tTBnQlWwH"
      }
    },
    {
      "cell_type": "code",
      "source": [
        "import pandas as pd\n",
        "from kmodes.kmodes import KModes\n",
        "from kmodes.kprototypes import KPrototypes\n",
        "\n",
        "df = pd.read_csv(\"https://storage.googleapis.com/dqlab-dataset/customer_segments.txt\", sep=\"\\t\")\n",
        "\n",
        "df_model = pd.read_csv('https://storage.googleapis.com/dqlab-dataset/df-customer-segmentation.csv')\n",
        "\n",
        "kproto = KPrototypes(n_clusters=5, random_state=75)\n",
        "kproto = kproto.fit(df_model, categorical=[0, 1, 2])\n",
        "\n",
        "# Menentukan segmen tiap pelanggan\n",
        "clusters = kproto.predict(df_model, categorical=[0, 1, 2])\n",
        "print('segmen pelanggan: {}\\n'.format(clusters))\n",
        "\n",
        "# Menggabungkan data awal dan segmen pelanggan\n",
        "df_final = df.copy()\n",
        "df_final['cluster'] = clusters\n",
        "print(df_final.head())"
      ],
      "metadata": {
        "colab": {
          "base_uri": "https://localhost:8080/"
        },
        "id": "77FnG5PJlZd6",
        "outputId": "7d29e5c0-582c-467c-f7ad-0ef779ffbf5b"
      },
      "execution_count": 51,
      "outputs": [
        {
          "output_type": "stream",
          "name": "stdout",
          "text": [
            "segmen pelanggan: [3 1 2 2 0 4 3 2 4 4 2 2 3 3 0 4 4 2 0 1 0 2 4 0 0 2 0 4 2 2 1 3 1 0 4 0 4\n",
            " 3 4 1 4 0 4 0 4 0 2 3 4 3]\n",
            "\n",
            "  Customer_ID       Nama Pelanggan Jenis Kelamin  Umur       Profesi  \\\n",
            "0    CUST-001         Budi Anggara          Pria    58    Wiraswasta   \n",
            "1    CUST-002     Shirley Ratuwati        Wanita    14       Pelajar   \n",
            "2    CUST-003         Agus Cahyono          Pria    48  Professional   \n",
            "3    CUST-004     Antonius Winarta          Pria    53  Professional   \n",
            "4    CUST-005  Ibu Sri Wahyuni, IR        Wanita    41    Wiraswasta   \n",
            "\n",
            "  Tipe Residen  NilaiBelanjaSetahun  cluster  \n",
            "0       Sector              9497927        3  \n",
            "1      Cluster              2722700        1  \n",
            "2      Cluster              5286429        2  \n",
            "3      Cluster              5204498        2  \n",
            "4      Cluster             10615206        0  \n"
          ]
        }
      ]
    },
    {
      "cell_type": "markdown",
      "source": [
        "# **Menampilkan Data Pelanggan Berdasarkan Cluster**\n",
        "\n",
        "Data pelanggan yang sudah diberi label cluster ditampilkan secara terpisah sesuai dengan masing-masing cluster. Hal ini memberikan gambaran jelas mengenai karakteristik pelanggan di setiap segmen, sehingga perusahaan dapat memahami profil dan kebutuhan tiap kelompok pelanggan dengan lebih baik."
      ],
      "metadata": {
        "id": "FfT0Za1Snrdn"
      }
    },
    {
      "cell_type": "code",
      "source": [
        "import pandas as pd\n",
        "from kmodes.kmodes import KModes\n",
        "from kmodes.kprototypes import KPrototypes\n",
        "\n",
        "df = pd.read_csv(\"https://storage.googleapis.com/dqlab-dataset/customer_segments.txt\", sep=\"\\t\")\n",
        "\n",
        "df_model = pd.read_csv('https://storage.googleapis.com/dqlab-dataset/df-customer-segmentation.csv')\n",
        "\n",
        "kproto = KPrototypes(n_clusters=5, random_state=75)\n",
        "kproto = kproto.fit(df_model, categorical=[0,1,2])\n",
        "\n",
        "clusters = kproto.predict(df_model, categorical=[0,1,2])\n",
        "\n",
        "df_final = df.copy()\n",
        "df_final['cluster'] = clusters\n",
        "\n",
        "# Menampilkan data pelanggan berdasarkan cluster nya\n",
        "for i in range(0, 5):\n",
        "    print('\\nPelanggan cluster: {}\\n'.format(i))\n",
        "    print(df_final[df_final['cluster'] == i])"
      ],
      "metadata": {
        "colab": {
          "base_uri": "https://localhost:8080/"
        },
        "id": "JrnXqqFvmVXG",
        "outputId": "d03f23b2-3a59-4858-925e-6a0cba11c9c8"
      },
      "execution_count": 52,
      "outputs": [
        {
          "output_type": "stream",
          "name": "stdout",
          "text": [
            "\n",
            "Pelanggan cluster: 0\n",
            "\n",
            "   Customer_ID       Nama Pelanggan Jenis Kelamin  Umur     Profesi  \\\n",
            "4     CUST-005  Ibu Sri Wahyuni, IR        Wanita    41  Wiraswasta   \n",
            "14    CUST-015     Shirley Ratuwati        Wanita    20  Wiraswasta   \n",
            "18    CUST-019         Mega Pranoto        Wanita    32  Wiraswasta   \n",
            "20    CUST-021     Lestari Fabianto        Wanita    38  Wiraswasta   \n",
            "23    CUST-024        Putri Ginting        Wanita    39  Wiraswasta   \n",
            "24    CUST-025       Julia Setiawan        Wanita    29  Wiraswasta   \n",
            "26    CUST-027        Grace Mulyati        Wanita    35  Wiraswasta   \n",
            "33    CUST-034       Deasy Arisandi        Wanita    21  Wiraswasta   \n",
            "35    CUST-036       Ni Made Suasti        Wanita    30  Wiraswasta   \n",
            "41    CUST-042         Yuliana Wati        Wanita    26  Wiraswasta   \n",
            "43    CUST-044                 Anna        Wanita    18  Wiraswasta   \n",
            "45    CUST-046         Elfira Surya        Wanita    25  Wiraswasta   \n",
            "\n",
            "   Tipe Residen  NilaiBelanjaSetahun  cluster  \n",
            "4       Cluster             10615206        0  \n",
            "14      Cluster             10365668        0  \n",
            "18      Cluster             10884508        0  \n",
            "20      Cluster              9222070        0  \n",
            "23      Cluster             10259572        0  \n",
            "24       Sector             10721998        0  \n",
            "26      Cluster              9114159        0  \n",
            "33       Sector              9759822        0  \n",
            "35      Cluster              9678994        0  \n",
            "41      Cluster              9880607        0  \n",
            "43      Cluster              9339737        0  \n",
            "45       Sector             10099807        0  \n",
            "\n",
            "Pelanggan cluster: 1\n",
            "\n",
            "   Customer_ID    Nama Pelanggan Jenis Kelamin  Umur    Profesi Tipe Residen  \\\n",
            "1     CUST-002  Shirley Ratuwati        Wanita    14    Pelajar      Cluster   \n",
            "19    CUST-020    Irene Novianto        Wanita    16    Pelajar       Sector   \n",
            "30    CUST-031     Eviana Handry        Wanita    19  Mahasiswa      Cluster   \n",
            "32    CUST-033   Cecilia Kusnadi        Wanita    19  Mahasiswa      Cluster   \n",
            "39    CUST-040    Irene Darmawan        Wanita    14    Pelajar       Sector   \n",
            "\n",
            "    NilaiBelanjaSetahun  cluster  \n",
            "1               2722700        1  \n",
            "19              2896845        1  \n",
            "30              3042773        1  \n",
            "32              3047926        1  \n",
            "39              2861855        1  \n",
            "\n",
            "Pelanggan cluster: 2\n",
            "\n",
            "   Customer_ID     Nama Pelanggan Jenis Kelamin  Umur           Profesi  \\\n",
            "2     CUST-003       Agus Cahyono          Pria    48      Professional   \n",
            "3     CUST-004   Antonius Winarta          Pria    53      Professional   \n",
            "7     CUST-008     Danang Santosa          Pria    52      Professional   \n",
            "10    CUST-011     Maria Suryawan        Wanita    50      Professional   \n",
            "11    CUST-012    Erliana Widjaja        Wanita    49      Professional   \n",
            "17    CUST-018        Nelly Halim        Wanita    63  Ibu Rumah Tangga   \n",
            "21    CUST-022       Novita Purba        Wanita    52      Professional   \n",
            "25    CUST-026  Christine Winarto        Wanita    55      Professional   \n",
            "28    CUST-029       Tia Hartanti        Wanita    56      Professional   \n",
            "29    CUST-030     Rosita Saragih        Wanita    46  Ibu Rumah Tangga   \n",
            "46    CUST-047        Mira Kurnia        Wanita    55  Ibu Rumah Tangga   \n",
            "\n",
            "   Tipe Residen  NilaiBelanjaSetahun  cluster  \n",
            "2       Cluster              5286429        2  \n",
            "3       Cluster              5204498        2  \n",
            "7       Cluster              5223569        2  \n",
            "10       Sector              5987367        2  \n",
            "11       Sector              5941914        2  \n",
            "17      Cluster              5340690        2  \n",
            "21      Cluster              5298157        2  \n",
            "25      Cluster              5269392        2  \n",
            "28      Cluster              5271845        2  \n",
            "29       Sector              5020976        2  \n",
            "46      Cluster              6130724        2  \n",
            "\n",
            "Pelanggan cluster: 3\n",
            "\n",
            "   Customer_ID    Nama Pelanggan Jenis Kelamin  Umur     Profesi Tipe Residen  \\\n",
            "0     CUST-001      Budi Anggara          Pria    58  Wiraswasta       Sector   \n",
            "6     CUST-007     Cahyono, Agus          Pria    64  Wiraswasta       Sector   \n",
            "12    CUST-013      Cahaya Putri        Wanita    64  Wiraswasta      Cluster   \n",
            "13    CUST-014    Mario Setiawan          Pria    60  Wiraswasta      Cluster   \n",
            "31    CUST-032   Chintya Winarni        Wanita    47  Wiraswasta       Sector   \n",
            "37    CUST-038      Agatha Salim        Wanita    46  Wiraswasta       Sector   \n",
            "47    CUST-048  Maria Hutagalung        Wanita    45  Wiraswasta       Sector   \n",
            "49    CUST-050    Lianna Nugraha        Wanita    55  Wiraswasta       Sector   \n",
            "\n",
            "    NilaiBelanjaSetahun  cluster  \n",
            "0               9497927        3  \n",
            "6               9837260        3  \n",
            "12              9333168        3  \n",
            "13              9471615        3  \n",
            "31             10663179        3  \n",
            "37             10477127        3  \n",
            "47             10390732        3  \n",
            "49             10569316        3  \n",
            "\n",
            "Pelanggan cluster: 4\n",
            "\n",
            "   Customer_ID         Nama Pelanggan Jenis Kelamin  Umur           Profesi  \\\n",
            "5     CUST-006        Rosalina Kurnia        Wanita    24      Professional   \n",
            "8     CUST-009  Elisabeth Suryadinata        Wanita    29      Professional   \n",
            "9     CUST-010         Mario Setiawan          Pria    33      Professional   \n",
            "15    CUST-016           Bambang Rudi          Pria    35      Professional   \n",
            "16    CUST-017              Yuni Sari        Wanita    32  Ibu Rumah Tangga   \n",
            "22    CUST-023        Denny Amiruddin          Pria    34      Professional   \n",
            "27    CUST-028          Adeline Huang        Wanita    40  Ibu Rumah Tangga   \n",
            "34    CUST-035                Ida Ayu        Wanita    39      Professional   \n",
            "36    CUST-037       Felicia Tandiono        Wanita    25      Professional   \n",
            "38    CUST-039           Gina Hidayat        Wanita    20      Professional   \n",
            "40    CUST-041       Shinta Aritonang        Wanita    24  Ibu Rumah Tangga   \n",
            "42    CUST-043           Yenna Sumadi        Wanita    31      Professional   \n",
            "44    CUST-045         Rismawati Juni        Wanita    22      Professional   \n",
            "48    CUST-049        Josephine Wahab        Wanita    33  Ibu Rumah Tangga   \n",
            "\n",
            "   Tipe Residen  NilaiBelanjaSetahun  cluster  \n",
            "5       Cluster              5215541        4  \n",
            "8        Sector              5993218        4  \n",
            "9       Cluster              5257448        4  \n",
            "15      Cluster              5262521        4  \n",
            "16      Cluster              5677762        4  \n",
            "22      Cluster              5239290        4  \n",
            "27      Cluster              6631680        4  \n",
            "34       Sector              5962575        4  \n",
            "36       Sector              5972787        4  \n",
            "38      Cluster              5257775        4  \n",
            "40      Cluster              6820976        4  \n",
            "42      Cluster              5268410        4  \n",
            "44      Cluster              5211041        4  \n",
            "48       Sector              4992585        4  \n"
          ]
        }
      ]
    },
    {
      "cell_type": "markdown",
      "source": [
        "# **Visualisasi Hasil Clustering dengan Box Plot**\n",
        "\n",
        "Box plot digunakan untuk memvisualisasikan distribusi variabel numerik seperti umur dan nilai belanja setahun pada setiap cluster. Visualisasi ini membantu mengidentifikasi perbedaan karakteristik utama antar segmen pelanggan secara kuantitatif dan mudah dipahami."
      ],
      "metadata": {
        "id": "ri0pzoQ0nvpL"
      }
    },
    {
      "cell_type": "code",
      "source": [
        "import seaborn as sns\n",
        "import matplotlib.pyplot as plt\n",
        "import pandas as pd\n",
        "from kmodes.kmodes import KModes\n",
        "from kmodes.kprototypes import KPrototypes\n",
        "\n",
        "# Load data\n",
        "df = pd.read_csv(\"https://storage.googleapis.com/dqlab-dataset/customer_segments.txt\", sep=\"\\t\")\n",
        "df_model = pd.read_csv(\"https://storage.googleapis.com/dqlab-dataset/df-customer-segmentation.csv\")\n",
        "\n",
        "# Clustering\n",
        "kproto = KPrototypes(n_clusters=5, random_state=75)\n",
        "kproto = kproto.fit(df_model, categorical=[0,1,2])\n",
        "clusters = kproto.predict(df_model, categorical=[0,1,2])\n",
        "\n",
        "# Gabungkan hasil klaster ke data asli\n",
        "df_final = df.copy()\n",
        "df_final['cluster'] = clusters\n",
        "\n",
        "# Data numerik yang ingin divisualisasikan\n",
        "kolom_numerik = ['Umur', 'NilaiBelanjaSetahun']\n",
        "\n",
        "# Warna pastel berbeda per cluster\n",
        "palette = sns.color_palette(\"pastel\", n_colors=5)\n",
        "\n",
        "# Plot\n",
        "for i in kolom_numerik:\n",
        "    plt.figure(figsize=(6, 4))\n",
        "    ax = sns.boxplot(x='cluster', y=i, data=df_final, palette=palette)\n",
        "    plt.title('\\nBox Plot {}\\n'.format(i), fontsize=12)\n",
        "    plt.show()"
      ],
      "metadata": {
        "colab": {
          "base_uri": "https://localhost:8080/",
          "height": 1000
        },
        "id": "2v4nZap-nzME",
        "outputId": "7c905a9d-ca03-4e31-933a-5be6da032c2d"
      },
      "execution_count": 53,
      "outputs": [
        {
          "output_type": "stream",
          "name": "stderr",
          "text": [
            "/tmp/ipython-input-53-3705226250.py:29: FutureWarning: \n",
            "\n",
            "Passing `palette` without assigning `hue` is deprecated and will be removed in v0.14.0. Assign the `x` variable to `hue` and set `legend=False` for the same effect.\n",
            "\n",
            "  ax = sns.boxplot(x='cluster', y=i, data=df_final, palette=palette)\n"
          ]
        },
        {
          "output_type": "display_data",
          "data": {
            "text/plain": [
              "<Figure size 600x400 with 1 Axes>"
            ],
            "image/png": "[encoded data removed]"
          },
          "metadata": {}
        },
        {
          "output_type": "stream",
          "name": "stderr",
          "text": [
            "/tmp/ipython-input-53-3705226250.py:29: FutureWarning: \n",
            "\n",
            "Passing `palette` without assigning `hue` is deprecated and will be removed in v0.14.0. Assign the `x` variable to `hue` and set `legend=False` for the same effect.\n",
            "\n",
            "  ax = sns.boxplot(x='cluster', y=i, data=df_final, palette=palette)\n"
          ]
        },
        {
          "output_type": "display_data",
          "data": {
            "text/plain": [
              "<Figure size 600x400 with 1 Axes>"
            ],
            "image/png": "[encoded data removed]"
          },
          "metadata": {}
        }
      ]
    },
    {
      "cell_type": "markdown",
      "source": [
        "# **Visualisasi Hasil Clustering dengan Count Plot**\n",
        "\n",
        "Count plot menampilkan distribusi data kategorikal seperti jenis kelamin, profesi, dan tipe residen dalam setiap cluster. Dengan visualisasi ini, dapat dilihat proporsi dan dominasi kategori dalam segmen pelanggan, yang sangat berguna untuk strategi pemasaran yang terfokus."
      ],
      "metadata": {
        "id": "NBOh9XD7odmU"
      }
    },
    {
      "cell_type": "code",
      "source": [
        "import matplotlib.pyplot as plt\n",
        "# Data Kategorikal\n",
        "kolom_categorical = ['Jenis Kelamin','Profesi','Tipe Residen']\n",
        "\n",
        "for i in kolom_categorical:\n",
        "    plt.figure(figsize=(6,4))\n",
        "    ax = sns.countplot(data = df_final, x = 'cluster', hue = i )\n",
        "    plt.title('\\nCount Plot {}\\n'.format(i), fontsize=12)\n",
        "    ax.legend (loc=\"upper center\")\n",
        "    for p in ax.patches:\n",
        "        ax.annotate(format(p.get_height(), '.0f'),\n",
        "                    (p.get_x() + p.get_width() / 2., p.get_height()),\n",
        "                     ha = 'center',\n",
        "                     va = 'center',\n",
        "                     xytext = (0, 10),\n",
        "                     textcoords = 'offset points')\n",
        "\n",
        "    sns.despine(right=True,top = True, left = True)\n",
        "    ax.axes.yaxis.set_visible(False)\n",
        "    plt.show()"
      ],
      "metadata": {
        "colab": {
          "base_uri": "https://localhost:8080/",
          "height": 1000
        },
        "id": "TqBqD8kOohuc",
        "outputId": "13617ecc-1fb2-4bbe-924f-c99dbf32190b"
      },
      "execution_count": 54,
      "outputs": [
        {
          "output_type": "display_data",
          "data": {
            "text/plain": [
              "<Figure size 600x400 with 1 Axes>"
            ],
            "image/png": "[encoded data removed]"
          },
          "metadata": {}
        },
        {
          "output_type": "display_data",
          "data": {
            "text/plain": [
              "<Figure size 600x400 with 1 Axes>"
            ],
            "image/png": "[encoded data removed]"
          },
          "metadata": {}
        },
        {
          "output_type": "display_data",
          "data": {
            "text/plain": [
              "<Figure size 600x400 with 1 Axes>"
            ],
            "image/png": "[encoded data removed]"
          },
          "metadata": {}
        }
      ]
    },
    {
      "cell_type": "markdown",
      "source": [
        "# **Penamaan Cluster Berdasarkan Karakteristik Pelanggan**\n",
        "\n",
        "Setiap cluster diberi nama yang merefleksikan profil pelanggan di dalamnya, seperti \"Diamond Young Member\" atau \"Silver Member\". Penamaan ini memudahkan komunikasi hasil segmentasi dalam konteks bisnis dan membantu tim pemasaran dalam merancang strategi yang sesuai dengan karakteristik tiap segmen."
      ],
      "metadata": {
        "id": "MticrbRQp6X7"
      }
    },
    {
      "cell_type": "code",
      "source": [
        "# Mapping nama kolom\n",
        "df_final['segmen'] = df_final['cluster'].map({\n",
        "    0: 'Diamond Young Member',\n",
        "    1: 'Diamond Senior Member',\n",
        "    2: 'Silver Member',\n",
        "    3: 'Gold Young Member',\n",
        "    4: 'Gold Senior Member'\n",
        "})\n",
        "\n",
        "print(df_final.info())\n",
        "print(df_final.head())"
      ],
      "metadata": {
        "colab": {
          "base_uri": "https://localhost:8080/"
        },
        "id": "iQuRb128p6G2",
        "outputId": "b2f69b20-7145-4791-ec5d-81911c6ce440"
      },
      "execution_count": 55,
      "outputs": [
        {
          "output_type": "stream",
          "name": "stdout",
          "text": [
            "<class 'pandas.core.frame.DataFrame'>\n",
            "RangeIndex: 50 entries, 0 to 49\n",
            "Data columns (total 9 columns):\n",
            " #   Column               Non-Null Count  Dtype \n",
            "---  ------               --------------  ----- \n",
            " 0   Customer_ID          50 non-null     object\n",
            " 1   Nama Pelanggan       50 non-null     object\n",
            " 2   Jenis Kelamin        50 non-null     object\n",
            " 3   Umur                 50 non-null     int64 \n",
            " 4   Profesi              50 non-null     object\n",
            " 5   Tipe Residen         50 non-null     object\n",
            " 6   NilaiBelanjaSetahun  50 non-null     int64 \n",
            " 7   cluster              50 non-null     uint16\n",
            " 8   segmen               50 non-null     object\n",
            "dtypes: int64(2), object(6), uint16(1)\n",
            "memory usage: 3.4+ KB\n",
            "None\n",
            "  Customer_ID       Nama Pelanggan Jenis Kelamin  Umur       Profesi  \\\n",
            "0    CUST-001         Budi Anggara          Pria    58    Wiraswasta   \n",
            "1    CUST-002     Shirley Ratuwati        Wanita    14       Pelajar   \n",
            "2    CUST-003         Agus Cahyono          Pria    48  Professional   \n",
            "3    CUST-004     Antonius Winarta          Pria    53  Professional   \n",
            "4    CUST-005  Ibu Sri Wahyuni, IR        Wanita    41    Wiraswasta   \n",
            "\n",
            "  Tipe Residen  NilaiBelanjaSetahun  cluster                 segmen  \n",
            "0       Sector              9497927        3      Gold Young Member  \n",
            "1      Cluster              2722700        1  Diamond Senior Member  \n",
            "2      Cluster              5286429        2          Silver Member  \n",
            "3      Cluster              5204498        2          Silver Member  \n",
            "4      Cluster             10615206        0   Diamond Young Member  \n"
          ]
        }
      ]
    },
    {
      "cell_type": "markdown",
      "source": [
        "# **Mempersiapkan Data Baru untuk Prediksi Segmentasi**\n",
        "\n",
        "Data pelanggan baru yang belum memiliki label cluster dipersiapkan dengan melakukan encoding kategori dan standarisasi numerik sesuai dengan skala data pelatihan. Proses ini memastikan data baru dapat diproses dengan model clustering yang sudah ada secara konsisten dan akurat."
      ],
      "metadata": {
        "id": "8Ooth9t6qG9Q"
      }
    },
    {
      "cell_type": "code",
      "source": [
        "# Data Baru\n",
        "data = [{\n",
        "    'Customer_ID': 'CUST-100' ,\n",
        "    'Nama Pelanggan': 'Joko' ,\n",
        "    'Jenis Kelamin': 'Pria',\n",
        "    'Umur': 45,\n",
        "    'Profesi': 'Wiraswasta',\n",
        "    'Tipe Residen': 'Cluster' ,\n",
        "    'NilaiBelanjaSetahun': 8230000\n",
        "\n",
        "}]\n",
        "\n",
        "# Membuat Data Frame\n",
        "new_df = pd.DataFrame(data)\n",
        "\n",
        "# Melihat Data\n",
        "print(new_df)"
      ],
      "metadata": {
        "colab": {
          "base_uri": "https://localhost:8080/"
        },
        "id": "TDzgfF-bqKBz",
        "outputId": "0acfd325-ad5d-4d07-bf9f-86a64e52b4ed"
      },
      "execution_count": 56,
      "outputs": [
        {
          "output_type": "stream",
          "name": "stdout",
          "text": [
            "  Customer_ID Nama Pelanggan Jenis Kelamin  Umur     Profesi Tipe Residen  \\\n",
            "0    CUST-100           Joko          Pria    45  Wiraswasta      Cluster   \n",
            "\n",
            "   NilaiBelanjaSetahun  \n",
            "0              8230000  \n"
          ]
        }
      ]
    },
    {
      "cell_type": "markdown",
      "source": [
        "# **Menggabungkan hasil dua proses sebelumnya menjadi satu data frame**\n",
        "\n",
        "Pada tahap ini, hasil prediksi cluster dari model K-Prototypes digabungkan dengan data pelanggan asli untuk membentuk satu kesatuan data yang lengkap. Penggabungan ini memudahkan analisis lanjutan dengan menyertakan label cluster pada setiap pelanggan sehingga dapat dilihat karakteristik dan segmentasi secara bersamaan."
      ],
      "metadata": {
        "id": "KA767vgKqSsw"
      }
    },
    {
      "cell_type": "code",
      "source": [
        "import pandas as pd\n",
        "import seaborn as sns\n",
        "from kmodes.kmodes import KModes\n",
        "from kmodes.kprototypes import KPrototypes\n",
        "\n",
        "df = pd.read_csv(\"https://storage.googleapis.com/dqlab-dataset/customer_segments.txt\", sep=\"\\t\")\n",
        "\n",
        "df_model = pd.read_csv('https://storage.googleapis.com/dqlab-dataset/df-customer-segmentation.csv')\n",
        "kproto = KPrototypes(n_clusters=5, random_state=75)\n",
        "kproto = kproto.fit(df_model, categorical=[0,1,2])\n",
        "\n",
        "clusters = kproto.predict(df_model, categorical=[0,1,2])\n",
        "\n",
        "df_final = df.copy()\n",
        "df_final['cluster'] = clusters\n",
        "df_final['segmen'] = df_final['cluster'].map({\n",
        "    0: 'Diamond Young Member',\n",
        "    1: 'Diamond Senior Member',\n",
        "    2: 'Silver Member',\n",
        "    3: 'Gold Young Member',\n",
        "    4: 'Gold Senior Member'\n",
        "})\n",
        "\n",
        "data = [{\n",
        "    'Customer_ID': 'CUST-100',\n",
        "    'Nama Pelanggan': 'Joko',\n",
        "    'Jenis Kelamin': 'Pria',\n",
        "    'Umur': 45,\n",
        "    'Profesi': 'Wiraswasta',\n",
        "    'Tipe Residen': 'Cluster',\n",
        "    'NilaiBelanjaSetahun': 8230000\n",
        "}]\n",
        "new_df = pd.DataFrame(data)\n",
        "\n",
        "def data_preprocess(data):\n",
        "    # Konversi Kategorikal data\n",
        "    kolom_kategorikal = ['Jenis Kelamin','Tipe Residen','Profesi']\n",
        "\n",
        "    df_encode = data[kolom_kategorikal].copy()\n",
        "\n",
        "    ## Jenis Kelamin\n",
        "    df_encode['Jenis Kelamin'] = df_encode['Jenis Kelamin'].map({\n",
        "        'Pria': 0,\n",
        "        'Wanita' : 1\n",
        "    })\n",
        "\n",
        "    ## Profesi\n",
        "    df_encode['Profesi'] = df_encode['Profesi'].map({\n",
        "        'Ibu Rumah Tangga': 0,\n",
        "        'Mahasiswa' : 1,\n",
        "        'Pelajar': 2,\n",
        "        'Professional': 3,\n",
        "        'Wiraswasta': 4\n",
        "    })\n",
        "\n",
        "    ## Tipe Residen\n",
        "    df_encode['Tipe Residen'] = df_encode['Tipe Residen'].map({\n",
        "        'Cluster': 0,\n",
        "        'Sector' : 1\n",
        "    })\n",
        "\n",
        "    # Standardisasi Numerical Data\n",
        "    kolom_numerik = ['Umur','NilaiBelanjaSetahun']\n",
        "    df_std = data[kolom_numerik].copy()\n",
        "\n",
        "    ## Standardisasi Kolom Umur\n",
        "    df_std['Umur'] = (df['Umur'] - 37.5)/14.7\n",
        "\n",
        "    ## Standardisasi Kolom Nilai Belanja Setahun\n",
        "    df_std['NilaiBelanjaSetahun'] = (df_std['NilaiBelanjaSetahun'] - 7069874.8)/2590619.0\n",
        "\n",
        "    # Menggabungkan Kategorikal dan numerikal data\n",
        "    df_model = df_encode.merge(df_std, left_index = True,\n",
        "                           right_index=True, how = 'left')\n",
        "\n",
        "    return df_model\n",
        "\n",
        "# Menjalankan fungsi\n",
        "new_df_model = data_preprocess(new_df)\n",
        "\n",
        "print(new_df_model)"
      ],
      "metadata": {
        "colab": {
          "base_uri": "https://localhost:8080/"
        },
        "id": "F_YEE6DcqVLQ",
        "outputId": "0095560f-cc12-4525-f7c1-56972bdfdbf6"
      },
      "execution_count": 57,
      "outputs": [
        {
          "output_type": "stream",
          "name": "stdout",
          "text": [
            "   Jenis Kelamin  Tipe Residen  Profesi      Umur  NilaiBelanjaSetahun\n",
            "0              0             0        4  1.394558             0.447818\n"
          ]
        }
      ]
    },
    {
      "cell_type": "markdown",
      "source": [
        "# **Memanggil Model dan Melakukan Prediksi**\n",
        "\n",
        "Pada tahap ini, model clustering yang telah disimpan sebelumnya dipanggil kembali menggunakan library pickle untuk melakukan prediksi segmen pada data baru yang sudah diproses. Proses prediksi ini mengelompokkan setiap data pelanggan ke dalam cluster yang sesuai berdasarkan atribut numerik dan kategorikal, sehingga memungkinkan segmentasi pelanggan secara cepat dan konsisten tanpa perlu pelatihan ulang model."
      ],
      "metadata": {
        "id": "x2b9QDSBqkH5"
      }
    },
    {
      "cell_type": "code",
      "source": [
        "def modelling (data):\n",
        "\n",
        "    # Memanggil Model\n",
        "    kpoto = pickle.load(open('cluster.pkl', 'rb'))\n",
        "\n",
        "    # Melakukan Prediksi\n",
        "    clusters = kpoto.predict (data,categorical=[0,1,2])\n",
        "\n",
        "    return clusters\n",
        "\n",
        "# Menjalankan Fungsi\n",
        "clusters = modelling(new_df_model)\n",
        "\n",
        "print(clusters)"
      ],
      "metadata": {
        "colab": {
          "base_uri": "https://localhost:8080/"
        },
        "id": "bB2ad9f2qnlx",
        "outputId": "22788a79-2ad6-45de-bc58-f647de1ddcc9"
      },
      "execution_count": 58,
      "outputs": [
        {
          "output_type": "stream",
          "name": "stdout",
          "text": [
            "[3]\n"
          ]
        }
      ]
    },
    {
      "cell_type": "markdown",
      "source": [
        "# **Menamakan Segmen**\n",
        "\n",
        "Setelah cluster pelanggan berhasil diprediksi, setiap cluster diberi nama yang merefleksikan karakteristik dan profil pelanggan di dalamnya, seperti “Diamond Young Member” atau “Silver Students”. Penamaan segmen ini memudahkan interpretasi hasil segmentasi dan komunikasi antar tim bisnis, sehingga strategi pemasaran dapat disesuaikan dengan kebutuhan dan karakteristik tiap segmen pelanggan secara efektif."
      ],
      "metadata": {
        "id": "Uq2b2EoWqrv2"
      }
    },
    {
      "cell_type": "code",
      "source": [
        "def menamakan_segmen (data_asli, clusters):\n",
        "\n",
        "    # Menggabungkan cluster dan data asli\n",
        "    final_df = data_asli.copy()\n",
        "    final_df['cluster'] = clusters\n",
        "\n",
        "    # Menamakan segmen\n",
        "    final_df['segmen'] = final_df['cluster'].map({\n",
        "        0: 'Diamond Young Member',\n",
        "        1: 'Diamond Senior Member',\n",
        "        2: 'Silver Students',\n",
        "        3: 'Gold Young Member',\n",
        "        4: 'Gold Senior Member'\n",
        "    })\n",
        "\n",
        "    return final_df\n",
        "\n",
        "# Menjalankan Fungsi\n",
        "new_final_df = menamakan_segmen(new_df,clusters)\n",
        "\n",
        "print(new_final_df)"
      ],
      "metadata": {
        "colab": {
          "base_uri": "https://localhost:8080/"
        },
        "id": "-4DjyoChqu1i",
        "outputId": "ede662a4-59a7-4ac5-ca7e-826cbea95009"
      },
      "execution_count": 59,
      "outputs": [
        {
          "output_type": "stream",
          "name": "stdout",
          "text": [
            "  Customer_ID Nama Pelanggan Jenis Kelamin  Umur     Profesi Tipe Residen  \\\n",
            "0    CUST-100           Joko          Pria    45  Wiraswasta      Cluster   \n",
            "\n",
            "   NilaiBelanjaSetahun  cluster             segmen  \n",
            "0              8230000        3  Gold Young Member  \n"
          ]
        }
      ]
    }
  ]
}